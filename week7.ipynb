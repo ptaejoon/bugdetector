{
  "nbformat": 4,
  "nbformat_minor": 0,
  "metadata": {
    "colab": {
      "name": "Untitled0.ipynb",
      "provenance": [],
      "authorship_tag": "ABX9TyOar6rqrr5+eB5X+AVz3FRu",
      "include_colab_link": true
    },
    "kernelspec": {
      "name": "python3",
      "display_name": "Python 3"
    }
  },
  "cells": [
    {
      "cell_type": "markdown",
      "metadata": {
        "id": "view-in-github",
        "colab_type": "text"
      },
      "source": [
        "<a href=\"https://colab.research.google.com/github/ptaejoon/bugdetector/blob/main/week7.ipynb\" target=\"_parent\"><img src=\"https://colab.research.google.com/assets/colab-badge.svg\" alt=\"Open In Colab\"/></a>"
      ]
    },
    {
      "cell_type": "code",
      "metadata": {
        "id": "3z-ksa7Cgp2w",
        "outputId": "126d5090-5d93-49c1-a5f4-2d6f70e8c1aa",
        "colab": {
          "base_uri": "https://localhost:8080/",
          "height": 265
        }
      },
      "source": [
        "import numpy as np\n",
        "\n",
        "# 데이터셋 생성\n",
        "x_train = np.random.random((1000, 1))\n",
        "y_train = x_train * 2 + np.random.random((1000, 1)) / 3.0\n",
        "x_test = np.random.random((100, 1))\n",
        "y_test = x_test * 2 + np.random.random((100, 1)) / 3.0\n",
        "\n",
        "# 데이터셋 확인\n",
        "%matplotlib inline\n",
        "import matplotlib.pyplot as plt\n",
        "\n",
        "plt.plot(x_train, y_train, 'ro')\n",
        "plt.plot(x_test, y_test, 'bo')\n",
        "plt.legend(['train', 'test'], loc='upper left')\n",
        "plt.show()"
      ],
      "execution_count": 1,
      "outputs": [
        {
          "output_type": "display_data",
          "data": {
            "image/png": "[encoded data removed]",
            "text/plain": [
              "<Figure size 432x288 with 1 Axes>"
            ]
          },
          "metadata": {
            "tags": [],
            "needs_background": "light"
          }
        }
      ]
    },
    {
      "cell_type": "code",
      "metadata": {
        "id": "Zsnj3nzjgq_W",
        "outputId": "e20adc8b-e001-4105-d114-e846635e5f2c",
        "colab": {
          "base_uri": "https://localhost:8080/",
          "height": 1000
        }
      },
      "source": [
        "# 0. 사용할 패키지 불러오기\n",
        "import numpy as np\n",
        "from keras.models import Sequential\n",
        "from keras.layers import Dense\n",
        "import random\n",
        "\n",
        "# 1. 데이터셋 생성하기\n",
        "x_train = np.random.random((1000, 1))\n",
        "y_train = x_train * 2 + np.random.random((1000, 1)) / 3.0\n",
        "x_test = np.random.random((100, 1))\n",
        "y_test = x_test * 2 + np.random.random((100, 1)) / 3.0\n",
        "\n",
        "# 2. 모델 구성하기\n",
        "model = Sequential()\n",
        "model.add(Dense(64, input_dim=1, activation='relu'))\n",
        "model.add(Dense(64, activation='relu'))\n",
        "model.add(Dense(1))\n",
        "\n",
        "# 3. 모델 학습과정 설정하기\n",
        "model.compile(optimizer='rmsprop', loss='mse')\n",
        "\n",
        "# 4. 모델 학습시키기\n",
        "hist = model.fit(x_train, y_train, epochs=50, batch_size=64)\n",
        "\n",
        "# 5. 학습과정 살펴보기\n",
        "%matplotlib inline\n",
        "import matplotlib.pyplot as plt\n",
        "\n",
        "plt.plot(hist.history['loss'])\n",
        "plt.ylim(0.0, 1.5)\n",
        "plt.ylabel('loss')\n",
        "plt.xlabel('epoch')\n",
        "plt.legend(['train'], loc='upper left')\n",
        "plt.show()\n",
        "\n",
        "# 6. 모델 평가하기\n",
        "loss = model.evaluate(x_test, y_test, batch_size=32)\n",
        "print('loss : ' + str(loss))"
      ],
      "execution_count": 3,
      "outputs": [
        {
          "output_type": "stream",
          "text": [
            "Epoch 1/50\n",
            "16/16 [==============================] - 0s 1ms/step - loss: 0.8741\n",
            "Epoch 2/50\n",
            "16/16 [==============================] - 0s 1ms/step - loss: 0.1579\n",
            "Epoch 3/50\n",
            "16/16 [==============================] - 0s 1ms/step - loss: 0.0305\n",
            "Epoch 4/50\n",
            "16/16 [==============================] - 0s 1ms/step - loss: 0.0199\n",
            "Epoch 5/50\n",
            "16/16 [==============================] - 0s 1ms/step - loss: 0.0132\n",
            "Epoch 6/50\n",
            "16/16 [==============================] - 0s 1ms/step - loss: 0.0104\n",
            "Epoch 7/50\n",
            "16/16 [==============================] - 0s 1ms/step - loss: 0.0101\n",
            "Epoch 8/50\n",
            "16/16 [==============================] - 0s 1ms/step - loss: 0.0098\n",
            "Epoch 9/50\n",
            "16/16 [==============================] - 0s 1ms/step - loss: 0.0103\n",
            "Epoch 10/50\n",
            "16/16 [==============================] - 0s 1ms/step - loss: 0.0098\n",
            "Epoch 11/50\n",
            "16/16 [==============================] - 0s 1ms/step - loss: 0.0100\n",
            "Epoch 12/50\n",
            "16/16 [==============================] - 0s 1ms/step - loss: 0.0104\n",
            "Epoch 13/50\n",
            "16/16 [==============================] - 0s 1ms/step - loss: 0.0099\n",
            "Epoch 14/50\n",
            "16/16 [==============================] - 0s 1ms/step - loss: 0.0101\n",
            "Epoch 15/50\n",
            "16/16 [==============================] - 0s 2ms/step - loss: 0.0102\n",
            "Epoch 16/50\n",
            "16/16 [==============================] - 0s 1ms/step - loss: 0.0096\n",
            "Epoch 17/50\n",
            "16/16 [==============================] - 0s 1ms/step - loss: 0.0102\n",
            "Epoch 18/50\n",
            "16/16 [==============================] - 0s 1ms/step - loss: 0.0099\n",
            "Epoch 19/50\n",
            "16/16 [==============================] - 0s 1ms/step - loss: 0.0100\n",
            "Epoch 20/50\n",
            "16/16 [==============================] - 0s 1ms/step - loss: 0.0101\n",
            "Epoch 21/50\n",
            "16/16 [==============================] - 0s 1ms/step - loss: 0.0103\n",
            "Epoch 22/50\n",
            "16/16 [==============================] - 0s 1ms/step - loss: 0.0099\n",
            "Epoch 23/50\n",
            "16/16 [==============================] - 0s 1ms/step - loss: 0.0099\n",
            "Epoch 24/50\n",
            "16/16 [==============================] - 0s 1ms/step - loss: 0.0102\n",
            "Epoch 25/50\n",
            "16/16 [==============================] - 0s 1ms/step - loss: 0.0100\n",
            "Epoch 26/50\n",
            "16/16 [==============================] - 0s 1ms/step - loss: 0.0095\n",
            "Epoch 27/50\n",
            "16/16 [==============================] - 0s 1ms/step - loss: 0.0105\n",
            "Epoch 28/50\n",
            "16/16 [==============================] - 0s 1ms/step - loss: 0.0099\n",
            "Epoch 29/50\n",
            "16/16 [==============================] - 0s 2ms/step - loss: 0.0099\n",
            "Epoch 30/50\n",
            "16/16 [==============================] - 0s 1ms/step - loss: 0.0099\n",
            "Epoch 31/50\n",
            "16/16 [==============================] - 0s 1ms/step - loss: 0.0101\n",
            "Epoch 32/50\n",
            "16/16 [==============================] - 0s 1ms/step - loss: 0.0101\n",
            "Epoch 33/50\n",
            "16/16 [==============================] - 0s 1ms/step - loss: 0.0099\n",
            "Epoch 34/50\n",
            "16/16 [==============================] - 0s 1ms/step - loss: 0.0099\n",
            "Epoch 35/50\n",
            "16/16 [==============================] - 0s 1ms/step - loss: 0.0101\n",
            "Epoch 36/50\n",
            "16/16 [==============================] - 0s 1ms/step - loss: 0.0097\n",
            "Epoch 37/50\n",
            "16/16 [==============================] - 0s 1ms/step - loss: 0.0101\n",
            "Epoch 38/50\n",
            "16/16 [==============================] - 0s 1ms/step - loss: 0.0100\n",
            "Epoch 39/50\n",
            "16/16 [==============================] - 0s 1ms/step - loss: 0.0100\n",
            "Epoch 40/50\n",
            "16/16 [==============================] - 0s 1ms/step - loss: 0.0100\n",
            "Epoch 41/50\n",
            "16/16 [==============================] - 0s 1ms/step - loss: 0.0102\n",
            "Epoch 42/50\n",
            "16/16 [==============================] - 0s 1ms/step - loss: 0.0098\n",
            "Epoch 43/50\n",
            "16/16 [==============================] - 0s 1ms/step - loss: 0.0098\n",
            "Epoch 44/50\n",
            "16/16 [==============================] - 0s 1ms/step - loss: 0.0097\n",
            "Epoch 45/50\n",
            "16/16 [==============================] - 0s 1ms/step - loss: 0.0100\n",
            "Epoch 46/50\n",
            "16/16 [==============================] - 0s 1ms/step - loss: 0.0098\n",
            "Epoch 47/50\n",
            "16/16 [==============================] - 0s 1ms/step - loss: 0.0097\n",
            "Epoch 48/50\n",
            "16/16 [==============================] - 0s 1ms/step - loss: 0.0100\n",
            "Epoch 49/50\n",
            "16/16 [==============================] - 0s 1ms/step - loss: 0.0098\n",
            "Epoch 50/50\n",
            "16/16 [==============================] - 0s 1ms/step - loss: 0.0103\n"
          ],
          "name": "stdout"
        },
        {
          "output_type": "display_data",
          "data": {
            "image/png": "[encoded data removed]",
            "text/plain": [
              "<Figure size 432x288 with 1 Axes>"
            ]
          },
          "metadata": {
            "tags": [],
            "needs_background": "light"
          }
        },
        {
          "output_type": "stream",
          "text": [
            "4/4 [==============================] - 0s 2ms/step - loss: 0.0095\n",
            "loss : 0.009498577564954758\n"
          ],
          "name": "stdout"
        }
      ]
    },
    {
      "cell_type": "code",
      "metadata": {
        "id": "KIZkMK89gwVs"
      },
      "source": [
        ""
      ],
      "execution_count": null,
      "outputs": []
    }
  ]
}